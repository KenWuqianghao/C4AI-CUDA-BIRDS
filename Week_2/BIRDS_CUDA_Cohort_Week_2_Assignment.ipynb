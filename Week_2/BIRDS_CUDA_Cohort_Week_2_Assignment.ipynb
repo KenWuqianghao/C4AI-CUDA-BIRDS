{
  "cells": [
    {
      "cell_type": "markdown",
      "metadata": {
        "id": "3n714FyEdcaX"
      },
      "source": [
        "**Q1. Create a simple Python script that starts two threads; each thread should print numbers from 1 to 5 with a delay of 1 second between each number.**"
      ]
    },
    {
      "cell_type": "code",
      "execution_count": 1,
      "metadata": {
        "id": "nxLk8gLmcx1_"
      },
      "outputs": [
        {
          "name": "stdout",
          "output_type": "stream",
          "text": [
            "Thread A: 0\n",
            "Thread B: 0\n",
            "Thread A: 1\n",
            "Thread B: 1\n",
            "Thread A: 2\n",
            "Thread B: 2\n",
            "Thread A: 3\n",
            "Thread B: 3\n",
            "Thread B: 4\n",
            "Thread A: 4\n"
          ]
        }
      ],
      "source": [
        "import threading\n",
        "import time\n",
        "\n",
        "def thread_task(name, count):\n",
        "    for i in range(count):\n",
        "        print(f\"Thread {name}: {i}\")\n",
        "        time.sleep(0.01)  # Short sleep to yield control\n",
        "\n",
        "# Threads\n",
        "thread1 = threading.Thread(target=thread_task, args=(\"A\", 5))\n",
        "thread2 = threading.Thread(target=thread_task, args=(\"B\", 5))\n",
        "\n",
        "thread1.start()\n",
        "thread2.start()\n",
        "\n",
        "thread1.join()\n",
        "thread2.join()"
      ]
    },
    {
      "cell_type": "markdown",
      "metadata": {
        "id": "8IFT0vwhdhKe"
      },
      "source": [
        "**Q2. Write a Python program where two threads print alternating messages like \"Ping\" and \"Pong\" respectively.**"
      ]
    },
    {
      "cell_type": "code",
      "execution_count": 14,
      "metadata": {
        "id": "ozXZzwCsdhcu"
      },
      "outputs": [
        {
          "name": "stdout",
          "output_type": "stream",
          "text": [
            "Ping\n",
            "Pong\n",
            "Ping\n",
            "Pong\n",
            "Ping\n",
            "Pong\n",
            "Ping\n",
            "Pong\n",
            "Ping\n",
            "Pong\n"
          ]
        }
      ],
      "source": [
        "import threading\n",
        "import time\n",
        "\n",
        "# Q2. Write a Python program where two threads print alternating messages like \"Ping\" and \"Pong\" respectively.**\n",
        "\n",
        "def thread_task(name, count):\n",
        "    for i in range(count):\n",
        "        if name == \"A\":\n",
        "            print(\"Ping\")\n",
        "        else:\n",
        "            print(\"Pong\")\n",
        "        time.sleep(0.0001)  # Short sleep to yield control\n",
        "\n",
        "# Threads\n",
        "thread1 = threading.Thread(target=thread_task, args=(\"A\", 5))\n",
        "thread2 = threading.Thread(target=thread_task, args=(\"B\", 5))\n",
        "\n",
        "thread1.start()\n",
        "thread2.start()\n",
        "\n",
        "thread1.join()\n",
        "thread2.join()"
      ]
    },
    {
      "cell_type": "markdown",
      "metadata": {
        "id": "8uewwr30fg-R"
      },
      "source": [
        "**Q3. Write a Python program using threads where a semaphore is used to limit access to a shared resource. For example, simulate a scenario where only a certain number of threads can write to a shared file at the same time. But feel free to choose any setting.**\n",
        "\n",
        "P.S. You can just copy-paste from the colab we used in the Session. But make sure you understand it!"
      ]
    },
    {
      "cell_type": "code",
      "execution_count": 1,
      "metadata": {
        "id": "RYdRBoA5fg1X"
      },
      "outputs": [],
      "source": [
        "from random import random\n",
        "from time import sleep\n",
        "\n",
        "def task(semaphore, number):\n",
        "    # attempt to acquire the semaphore\n",
        "    with semaphore:\n",
        "        # simulate computational effort\n",
        "        value = random()\n",
        "        sleep(value)\n",
        "        # report result\n",
        "        print(f'Process {number} got {value}')\n",
        "\n",
        "from multiprocessing import Semaphore, Process\n",
        "\n",
        "semaphore = Semaphore(2)\n",
        "processes = [Process(target=task, args=(semaphore, i)) for i in range(10)]\n",
        "\n",
        "for process in processes:\n",
        "    process.start()\n",
        "\n",
        "for process in processes:\n",
        "    process.join()"
      ]
    },
    {
      "cell_type": "markdown",
      "metadata": {
        "id": "OvP_fREcfgqc"
      },
      "source": [
        "**Q4. [OPTIONAL] Write a simple usecase of Mutex in C++. No need to run just dump the code in multiline comment below.**"
      ]
    },
    {
      "cell_type": "code",
      "execution_count": null,
      "metadata": {
        "id": "WeuCggdffgWH"
      },
      "outputs": [],
      "source": [
        "\"\"\"\n",
        "[C++ CODE GOES HERE]\n",
        "\"\"\""
      ]
    },
    {
      "cell_type": "markdown",
      "metadata": {
        "id": "nI9buA_Vd07A"
      },
      "source": [
        "**Q5. [OPTIONAL] DINING PHILOSOPHER'S PROBLEM**\n",
        "\n",
        "* There are five philosophers sitting around a dining table.\n",
        "* Each philosopher thinks and eats spaghetti.\n",
        "* To eat, a philosopher must have two forks (one on the left and one on the right).\n",
        "* There is a single fork between each pair of adjacent philosophers.\n",
        "* Philosophers must pick up both forks to eat and put them down when they're done."
      ]
    },
    {
      "cell_type": "code",
      "execution_count": null,
      "metadata": {
        "id": "8z9a_qcfffZK"
      },
      "outputs": [],
      "source": []
    }
  ],
  "metadata": {
    "colab": {
      "provenance": []
    },
    "kernelspec": {
      "display_name": "Python 3",
      "name": "python3"
    },
    "language_info": {
      "codemirror_mode": {
        "name": "ipython",
        "version": 3
      },
      "file_extension": ".py",
      "mimetype": "text/x-python",
      "name": "python",
      "nbconvert_exporter": "python",
      "pygments_lexer": "ipython3",
      "version": "3.11.9"
    }
  },
  "nbformat": 4,
  "nbformat_minor": 0
}
