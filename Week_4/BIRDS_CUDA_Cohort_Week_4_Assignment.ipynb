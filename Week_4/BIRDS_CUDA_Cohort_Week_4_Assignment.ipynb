{
  "nbformat": 4,
  "nbformat_minor": 0,
  "metadata": {
    "colab": {
      "provenance": []
    },
    "kernelspec": {
      "name": "python3",
      "display_name": "Python 3"
    },
    "language_info": {
      "name": "python"
    }
  },
  "cells": [
    {
      "cell_type": "code",
      "execution_count": null,
      "metadata": {
        "colab": {
          "base_uri": "https://localhost:8080/"
        },
        "id": "WSs2jkUOitMt",
        "outputId": "438d4bd0-f640-4978-8545-7ec1cec1dc62"
      },
      "outputs": [
        {
          "output_type": "stream",
          "name": "stdout",
          "text": [
            "Collecting nvcc4jupyter\n",
            "  Downloading nvcc4jupyter-1.2.1-py3-none-any.whl (10 kB)\n",
            "Installing collected packages: nvcc4jupyter\n",
            "Successfully installed nvcc4jupyter-1.2.1\n",
            "Detected platform \"Colab\". Running its setup...\n",
            "Source files will be saved in \"/tmp/tmpv2m8ahx5\".\n"
          ]
        }
      ],
      "source": [
        "!pip install nvcc4jupyter\n",
        "%load_ext nvcc4jupyter"
      ]
    },
    {
      "cell_type": "markdown",
      "source": [
        "**Q1. Write a simple CUDA kernel that gives the sum of maximum element of 2 vectors and profile it for:**\n",
        "\n",
        "- Execution on 1 thread and 1 block\n",
        "- Execution on all threads of 1 block\n",
        "- Execution on all threads of n blocks. Deciding n is upto you."
      ],
      "metadata": {
        "id": "REqGCsKtjKAi"
      }
    },
    {
      "cell_type": "code",
      "source": [],
      "metadata": {
        "id": "2x9RfFb1laSU"
      },
      "execution_count": null,
      "outputs": []
    },
    {
      "cell_type": "markdown",
      "source": [
        "**Q2.[OPTIONAL] Write a simple CUDA kernel that does matrix multiplication of 2 matrices.**"
      ],
      "metadata": {
        "id": "eExCZ2C8lbCs"
      }
    },
    {
      "cell_type": "code",
      "source": [],
      "metadata": {
        "id": "f8UFMF6all5l"
      },
      "execution_count": null,
      "outputs": []
    }
  ]
}